{
 "cells": [
  {
   "cell_type": "code",
   "execution_count": 13,
   "metadata": {},
   "outputs": [],
   "source": [
    "import pandas as pd\n"
   ]
  },
  {
   "cell_type": "code",
   "execution_count": 2,
   "metadata": {},
   "outputs": [],
   "source": [
    "df=pd.read_csv(r\"sucide_data\\Suicide_India.csv\")#reading the file"
   ]
  },
  {
   "cell_type": "code",
   "execution_count": 3,
   "metadata": {
    "scrolled": true
   },
   "outputs": [
    {
     "data": {
      "text/html": [
       "<div>\n",
       "<style scoped>\n",
       "    .dataframe tbody tr th:only-of-type {\n",
       "        vertical-align: middle;\n",
       "    }\n",
       "\n",
       "    .dataframe tbody tr th {\n",
       "        vertical-align: top;\n",
       "    }\n",
       "\n",
       "    .dataframe thead th {\n",
       "        text-align: right;\n",
       "    }\n",
       "</style>\n",
       "<table border=\"1\" class=\"dataframe\">\n",
       "  <thead>\n",
       "    <tr style=\"text-align: right;\">\n",
       "      <th></th>\n",
       "      <th>State</th>\n",
       "      <th>Year</th>\n",
       "      <th>Type_code</th>\n",
       "      <th>Type</th>\n",
       "      <th>Gender</th>\n",
       "      <th>Age_group</th>\n",
       "      <th>Total</th>\n",
       "    </tr>\n",
       "  </thead>\n",
       "  <tbody>\n",
       "    <tr>\n",
       "      <th>0</th>\n",
       "      <td>A &amp; N Islands</td>\n",
       "      <td>2001</td>\n",
       "      <td>Causes</td>\n",
       "      <td>Illness (Aids/STD)</td>\n",
       "      <td>Female</td>\n",
       "      <td>0-14</td>\n",
       "      <td>0</td>\n",
       "    </tr>\n",
       "    <tr>\n",
       "      <th>1</th>\n",
       "      <td>A &amp; N Islands</td>\n",
       "      <td>2001</td>\n",
       "      <td>Causes</td>\n",
       "      <td>Bankruptcy or Sudden change in Economic</td>\n",
       "      <td>Female</td>\n",
       "      <td>0-14</td>\n",
       "      <td>0</td>\n",
       "    </tr>\n",
       "    <tr>\n",
       "      <th>2</th>\n",
       "      <td>A &amp; N Islands</td>\n",
       "      <td>2001</td>\n",
       "      <td>Causes</td>\n",
       "      <td>Cancellation/Non-Settlement of Marriage</td>\n",
       "      <td>Female</td>\n",
       "      <td>0-14</td>\n",
       "      <td>0</td>\n",
       "    </tr>\n",
       "    <tr>\n",
       "      <th>3</th>\n",
       "      <td>A &amp; N Islands</td>\n",
       "      <td>2001</td>\n",
       "      <td>Causes</td>\n",
       "      <td>Physical Abuse (Rape/Incest Etc.)</td>\n",
       "      <td>Female</td>\n",
       "      <td>0-14</td>\n",
       "      <td>0</td>\n",
       "    </tr>\n",
       "    <tr>\n",
       "      <th>4</th>\n",
       "      <td>A &amp; N Islands</td>\n",
       "      <td>2001</td>\n",
       "      <td>Causes</td>\n",
       "      <td>Dowry Dispute</td>\n",
       "      <td>Female</td>\n",
       "      <td>0-14</td>\n",
       "      <td>0</td>\n",
       "    </tr>\n",
       "  </tbody>\n",
       "</table>\n",
       "</div>"
      ],
      "text/plain": [
       "           State  Year Type_code                                     Type  \\\n",
       "0  A & N Islands  2001    Causes                       Illness (Aids/STD)   \n",
       "1  A & N Islands  2001    Causes  Bankruptcy or Sudden change in Economic   \n",
       "2  A & N Islands  2001    Causes  Cancellation/Non-Settlement of Marriage   \n",
       "3  A & N Islands  2001    Causes        Physical Abuse (Rape/Incest Etc.)   \n",
       "4  A & N Islands  2001    Causes                            Dowry Dispute   \n",
       "\n",
       "   Gender Age_group  Total  \n",
       "0  Female      0-14      0  \n",
       "1  Female      0-14      0  \n",
       "2  Female      0-14      0  \n",
       "3  Female      0-14      0  \n",
       "4  Female      0-14      0  "
      ]
     },
     "execution_count": 3,
     "metadata": {},
     "output_type": "execute_result"
    }
   ],
   "source": [
    "df.head()"
   ]
  },
  {
   "cell_type": "code",
   "execution_count": 4,
   "metadata": {},
   "outputs": [],
   "source": [
    "#data _cleaning\n",
    "df.replace('A & N Islands', 'A & N Islands (Ut)', inplace=True)\n",
    "df.replace('Chandigarh', 'Chandigarh (Ut)', inplace=True)\n",
    "df.replace('D & N Haveli', 'D & N Haveli (Ut)', inplace=True)\n",
    "df.replace('Daman & Diu', 'Daman & Diu (Ut)', inplace=True)\n",
    "df.replace('Lakshadweep', 'Lakshadweep (Ut)', inplace=True)\n",
    "df.replace('Puducherry', 'Puducherry (Ut)', inplace=True)\n",
    "\n",
    "df.replace('Bankruptcy or Sudden change in Economic', 'Bankruptcy or Sudden change in Economic Status', inplace=True)\n",
    "df.replace('By Other means (please specify)', 'Other', inplace=True)\n",
    "df.replace('Other Causes (Please Specity)', 'Other', inplace=True)\n",
    "df.replace('Others (Please Specify)', 'Other', inplace=True)\n",
    "df.replace('Not having Children(Barrenness/Impotency', 'Not having Children (Barrenness/Impotency', inplace=True)"
   ]
  },
  {
   "cell_type": "code",
   "execution_count": 5,
   "metadata": {},
   "outputs": [
    {
     "data": {
      "text/plain": [
       "array(['Causes', 'Education_Status', 'Means_adopted',\n",
       "       'Professional_Profile', 'Social_Status'], dtype=object)"
      ]
     },
     "execution_count": 5,
     "metadata": {},
     "output_type": "execute_result"
    }
   ],
   "source": [
    " pd.unique(df['Type_code'])"
   ]
  },
  {
   "cell_type": "code",
   "execution_count": 6,
   "metadata": {},
   "outputs": [],
   "source": [
    "df_a=df.groupby('Type_code')#grouping by Type_code"
   ]
  },
  {
   "cell_type": "code",
   "execution_count": 7,
   "metadata": {},
   "outputs": [],
   "source": [
    "#creating df by each value of Type_code\n",
    "def gtgrp(x):\n",
    "    dfs=df_a.get_group(x)\n",
    "    return dfs"
   ]
  },
  {
   "cell_type": "code",
   "execution_count": 8,
   "metadata": {},
   "outputs": [],
   "source": [
    "cause=gtgrp('Causes')\n",
    "edu=gtgrp('Education_Status')\n",
    "means=gtgrp('Means_adopted')\n",
    "professional=gtgrp('Professional_Profile')\n",
    "social=gtgrp('Social_Status')"
   ]
  },
  {
   "cell_type": "code",
   "execution_count": 9,
   "metadata": {},
   "outputs": [],
   "source": [
    "#to check the distribution across the Type\n",
    "def pvtcol(x):\n",
    "    dfg=pd.pivot_table(df, values = 'Total', index='Gender', columns = (x.Type))#gender\n",
    "    dfa=pd.pivot_table(df, values = 'Total', index='Age_group', columns = (x.Type))#age\n",
    "    dfg['max']=(dfg.idxmax(axis=1))#col with max value in a row\n",
    "    dfa['max']=(dfa.idxmax(axis=1))\n",
    "    return(dfg,dfa)"
   ]
  },
  {
   "cell_type": "code",
   "execution_count": 10,
   "metadata": {},
   "outputs": [],
   "source": [
    "gender_causes,age_causes=pvtcol(cause)\n",
    "gender_edu,age_edu=pvtcol(edu)\n",
    "gender_means,age_means=pvtcol(means)\n",
    "gender_prof,age_prof=pvtcol(professional)\n",
    "gender_social,age_social=pvtcol(social)"
   ]
  },
  {
   "cell_type": "code",
   "execution_count": 11,
   "metadata": {},
   "outputs": [],
   "source": [
    "def prnttt(x):\n",
    "    print(x['max'])\n",
    "    "
   ]
  },
  {
   "cell_type": "code",
   "execution_count": 12,
   "metadata": {
    "scrolled": true
   },
   "outputs": [
    {
     "name": "stdout",
     "output_type": "stream",
     "text": [
      "Gender\n",
      "Female    Family Problems\n",
      "Male      Family Problems\n",
      "Name: max, dtype: object\n",
      "Age_group\n",
      "0-14                       Other\n",
      "15-29            Family Problems\n",
      "30-44            Family Problems\n",
      "45-59            Family Problems\n",
      "60+      Other Prolonged Illness\n",
      "Name: max, dtype: object\n",
      "Gender\n",
      "Female    Primary\n",
      "Male      Primary\n",
      "Name: max, dtype: object\n",
      "Age_group\n",
      "0-100+    Primary\n",
      "Name: max, dtype: object\n",
      "Gender\n",
      "Female    By Hanging\n",
      "Male      By Hanging\n",
      "Name: max, dtype: object\n",
      "Age_group\n",
      "0-14     By Other means\n",
      "15-29        By Hanging\n",
      "30-44        By Hanging\n",
      "45-59        By Hanging\n",
      "60+          By Hanging\n",
      "Name: max, dtype: object\n",
      "Gender\n",
      "Female    House Wife\n",
      "Male           Other\n",
      "Name: max, dtype: object\n",
      "Age_group\n",
      "0-14        Student\n",
      "15-29    House Wife\n",
      "30-44    House Wife\n",
      "45-59         Other\n",
      "60+           Other\n",
      "Name: max, dtype: object\n",
      "Gender\n",
      "Female    Married\n",
      "Male      Married\n",
      "Name: max, dtype: object\n",
      "Age_group\n",
      "0-100+    Married\n",
      "Name: max, dtype: object\n"
     ]
    }
   ],
   "source": [
    "prnttt(gender_causes)\n",
    "prnttt(age_causes)\n",
    "prnttt(gender_edu)\n",
    "prnttt(age_edu)\n",
    "prnttt(gender_means)\n",
    "prnttt(age_means)\n",
    "prnttt(gender_prof)\n",
    "prnttt(age_prof)\n",
    "prnttt(gender_social)\n",
    "prnttt(age_social)\n",
    "\n"
   ]
  },
  {
   "cell_type": "markdown",
   "metadata": {},
   "source": [
    "# Analysis:\n",
    "\n",
    "## Family problems is the main cause for both male and female\n",
    "## for age 15-59 Family problems is the main cause, for age 60+,Other Prolonged Illness is the main cause\n",
    "## Education level in most of the cases is 'Primary' for both male and female\n",
    "## Most common means is ' By Hanging' for both the genders and  across all the age\n",
    "## Females who commits sucide are mostly housewife,and House Wife is in majority for age range 15-44 while for age 0-14 mostly are students\n",
    "## Social status married is most common for both the genders and  across all the age"
   ]
  },
  {
   "cell_type": "markdown",
   "metadata": {},
   "source": [
    "# What can we do? \n",
    "\n",
    "## Family problems is the main cause for almost all the classes which can have many correlations and causes without any additional data we can't comment\n",
    "## As for most of them 'Education level' is 'Primary' , improving which might reduce these cases\n",
    "## Housewives and Student are the majority,so there should be some scheme from govt.which employs the housewives(even if it is for shorter period),this will make them independent/less dependent economically so they can stand against any injustice done towards them\n",
    "## For most of the Students either it is 'fear of failure' or 'unemployment' , which has been in India since ages,because the way our 'education system' is designed and the amount of pressures one has to go through 'for passing the exam'"
   ]
  }
 ],
 "metadata": {
  "kernelspec": {
   "display_name": "Python 3",
   "language": "python",
   "name": "python3"
  },
  "language_info": {
   "codemirror_mode": {
    "name": "ipython",
    "version": 3
   },
   "file_extension": ".py",
   "mimetype": "text/x-python",
   "name": "python",
   "nbconvert_exporter": "python",
   "pygments_lexer": "ipython3",
   "version": "3.6.5"
  }
 },
 "nbformat": 4,
 "nbformat_minor": 2
}
